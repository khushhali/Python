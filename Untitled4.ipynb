{
  "nbformat": 4,
  "nbformat_minor": 0,
  "metadata": {
    "colab": {
      "name": "Untitled4.ipynb",
      "provenance": [],
      "collapsed_sections": []
    },
    "kernelspec": {
      "name": "python3",
      "display_name": "Python 3"
    },
    "language_info": {
      "name": "python"
    }
  },
  "cells": [
    {
      "cell_type": "markdown",
      "metadata": {
        "id": "0k4POyOzlZPJ"
      },
      "source": [
        "### **Iterater and Iterable** \n",
        "\n",
        "#iterable:\n",
        "           in general iterable is a sequence of elements and we can iterate\n",
        "           the elements one by one.\n",
        "           example:-\n",
        "           list ,tuple,sets,dictionary etc.\n",
        "\n",
        "\n",
        "\n",
        "\n",
        "\n",
        "#iterator:-\n",
        "           iterator is an object ,which is used to iterate over an iterable\n",
        "           object.and this process is called iteration.\n",
        "\n",
        "           -------Every iterator is also an iterable,but not every iterable\n",
        "           is not a iterator.\n",
        "           example:- list is a iterable but it is not the iterator.\n"
      ]
    },
    {
      "cell_type": "code",
      "metadata": {
        "id": "Z-9cv9WOlYn8"
      },
      "source": [
        ""
      ],
      "execution_count": null,
      "outputs": []
    },
    {
      "cell_type": "markdown",
      "metadata": {
        "id": "Zu1_0mxemIiJ"
      },
      "source": [
        ""
      ]
    }
  ]
}