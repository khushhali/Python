{
  "nbformat": 4,
  "nbformat_minor": 0,
  "metadata": {
    "colab": {
      "name": "ptrn printing triangle.ipynb",
      "provenance": [],
      "collapsed_sections": []
    },
    "kernelspec": {
      "name": "python3",
      "display_name": "Python 3"
    },
    "language_info": {
      "name": "python"
    }
  },
  "cells": [
    {
      "cell_type": "code",
      "metadata": {
        "id": "g10zPQPvey4Q"
      },
      "source": [
        ""
      ],
      "execution_count": null,
      "outputs": []
    },
    {
      "cell_type": "code",
      "metadata": {
        "colab": {
          "base_uri": "https://localhost:8080/"
        },
        "id": "HE2XBrVpfb5b",
        "outputId": "981cabde-53cf-4bae-c8b3-fa788c1959eb"
      },
      "source": [
        "n=5\n",
        "for i in range(1,n+1):\n",
        "  for k in range(1,n+1-i):\n",
        "    print(' ',end='' )\n",
        "  for j in range(1,i+1):\n",
        "    print('*',end=' ')\n",
        "  print('')\n"
      ],
      "execution_count": null,
      "outputs": [
        {
          "output_type": "stream",
          "text": [
            "    * \n",
            "   * * \n",
            "  * * * \n",
            " * * * * \n",
            "* * * * * \n"
          ],
          "name": "stdout"
        }
      ]
    },
    {
      "cell_type": "code",
      "metadata": {
        "colab": {
          "base_uri": "https://localhost:8080/"
        },
        "id": "g9sdpSyyfZjw",
        "outputId": "da1ec630-fbe7-4e0d-c8d2-455f2880eb2f"
      },
      "source": [
        "n=5\n",
        "for i in range(n-1,0,-1):\n",
        "  for k in range(1,n-i):\n",
        "    print(' ',end=' ')\n",
        "  for j in range(1,i+1):  \n",
        "    print('*', end=' ')\n",
        "  print()  "
      ],
      "execution_count": null,
      "outputs": [
        {
          "output_type": "stream",
          "text": [
            "* * * * \n",
            "  * * * \n",
            "    * * \n",
            "      * \n"
          ],
          "name": "stdout"
        }
      ]
    },
    {
      "cell_type": "code",
      "metadata": {
        "colab": {
          "base_uri": "https://localhost:8080/"
        },
        "id": "ZglWECv-mJtm",
        "outputId": "622bb3d1-bf06-427c-aa21-d42a7416e49d"
      },
      "source": [
        "n=5\n",
        "for i in range(1,n+1):\n",
        "  for k in range(1,n+1-i):\n",
        "    print(' ',end=' ' )\n",
        "  for j in range(1,i+1):\n",
        "    print('*',end=' ') \n",
        "  print('')\n",
        "for i in range(n,0,-1):\n",
        "  for k in range(1,n+1-i):\n",
        "    print(' ',end=' ')\n",
        "  for j in range(1,i+1):  \n",
        "    print('*', end=' ')\n",
        "  print()  \n",
        "       "
      ],
      "execution_count": null,
      "outputs": [
        {
          "output_type": "stream",
          "text": [
            "        * \n",
            "      * * \n",
            "    * * * \n",
            "  * * * * \n",
            "* * * * * \n",
            "* * * * * \n",
            "  * * * * \n",
            "    * * * \n",
            "      * * \n",
            "        * \n"
          ],
          "name": "stdout"
        }
      ]
    },
    {
      "cell_type": "code",
      "metadata": {
        "id": "XlVb8Q3Qn299",
        "colab": {
          "base_uri": "https://localhost:8080/"
        },
        "outputId": "4cb5924b-6171-4402-d881-1513e02dd93c"
      },
      "source": [
        "n=5\n",
        "for i in range(1,n+1):\n",
        "  for k in range(1,n+1-i):\n",
        "      print(' ',end=' ')\n",
        "  for j in range(1,i+1):\n",
        "      print('*',end=' ')\n",
        "  print()      "
      ],
      "execution_count": null,
      "outputs": [
        {
          "output_type": "stream",
          "text": [
            "        * \n",
            "      * * \n",
            "    * * * \n",
            "  * * * * \n",
            "* * * * * \n"
          ],
          "name": "stdout"
        }
      ]
    },
    {
      "cell_type": "markdown",
      "metadata": {
        "id": "cAbt6QjN6xQ9"
      },
      "source": [
        "\n",
        "\n",
        "```\n",
        "* * * * *\n",
        "* * * *\n",
        "* * *\n",
        "* *\n",
        "*\n",
        "```\n",
        "\n"
      ]
    },
    {
      "cell_type": "code",
      "metadata": {
        "id": "0nfvbedry-nv"
      },
      "source": [
        ""
      ],
      "execution_count": null,
      "outputs": []
    }
  ]
}