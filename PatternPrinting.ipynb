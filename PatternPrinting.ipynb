{
  "nbformat": 4,
  "nbformat_minor": 0,
  "metadata": {
    "colab": {
      "name": "PatternPrinting.ipynb",
      "provenance": [],
      "collapsed_sections": []
    },
    "kernelspec": {
      "name": "python3",
      "display_name": "Python 3"
    },
    "language_info": {
      "name": "python"
    }
  },
  "cells": [
    {
      "cell_type": "markdown",
      "metadata": {
        "id": "Q9vjU9B2BNm6"
      },
      "source": [
        "\n",
        "\n",
        "```\n",
        "1\n",
        "1 2\n",
        "1 2 3\n",
        "1 2 3 4\n",
        "1 2 3 4 5\n",
        "```\n",
        "\n"
      ]
    },
    {
      "cell_type": "code",
      "metadata": {
        "colab": {
          "base_uri": "https://localhost:8080/"
        },
        "id": "Xka5Qt8wBJUw",
        "outputId": "857ebdcf-a635-4191-b11c-ad6b5396cb5b"
      },
      "source": [
        "n = int(input('Enter line number :- '))\n",
        "for i in range(1, n+1):\n",
        "  for j in range(1, i+1):\n",
        "    print(j,end = ' ')\n",
        "  print()"
      ],
      "execution_count": 13,
      "outputs": [
        {
          "output_type": "stream",
          "text": [
            "Enter line number :- 8\n",
            "1 \n",
            "1 2 \n",
            "1 2 3 \n",
            "1 2 3 4 \n",
            "1 2 3 4 5 \n",
            "1 2 3 4 5 6 \n",
            "1 2 3 4 5 6 7 \n",
            "1 2 3 4 5 6 7 8 \n"
          ],
          "name": "stdout"
        }
      ]
    },
    {
      "cell_type": "markdown",
      "metadata": {
        "id": "uc-zkQhWFOVI"
      },
      "source": [
        "\n",
        "\n",
        "```\n",
        "1\n",
        "1 1\n",
        "1 1 1\n",
        "1 1 1 1\n",
        "1 1 1 1 1\n",
        "```\n",
        "\n"
      ]
    },
    {
      "cell_type": "code",
      "metadata": {
        "colab": {
          "base_uri": "https://localhost:8080/"
        },
        "id": "WGrj8dHrGVl1",
        "outputId": "2a5086bc-fa9c-4391-b5be-a720eafde328"
      },
      "source": [
        "n = int(input('Enter line number :- '))\n",
        "for i in range(1, n+1):\n",
        "  for j in range(1, i+1):\n",
        "    print(1,end = ' ')\n",
        "  print()"
      ],
      "execution_count": 17,
      "outputs": [
        {
          "output_type": "stream",
          "text": [
            "Enter line number :- 5\n",
            "1 \n",
            "1 1 \n",
            "1 1 1 \n",
            "1 1 1 1 \n",
            "1 1 1 1 1 \n"
          ],
          "name": "stdout"
        }
      ]
    },
    {
      "cell_type": "markdown",
      "metadata": {
        "id": "YwSGOTZwIQyQ"
      },
      "source": [
        "\n",
        "\n",
        "```\n",
        "*\n",
        "**\n",
        "***\n",
        "****\n",
        "*****\n",
        "```\n",
        "\n"
      ]
    },
    {
      "cell_type": "code",
      "metadata": {
        "colab": {
          "base_uri": "https://localhost:8080/"
        },
        "id": "V2zTnpU8HuAg",
        "outputId": "5bcf4167-ee3e-4ad7-b651-31eef73f8c6a"
      },
      "source": [
        "n=5\n",
        "for i in range(1,n+1):\n",
        "  for j in range(1,i+1):\n",
        "    print('*',end= '')\n",
        "  print()"
      ],
      "execution_count": 50,
      "outputs": [
        {
          "output_type": "stream",
          "text": [
            "*\n",
            "**\n",
            "***\n",
            "****\n",
            "*****\n"
          ],
          "name": "stdout"
        }
      ]
    },
    {
      "cell_type": "code",
      "metadata": {
        "colab": {
          "base_uri": "https://localhost:8080/"
        },
        "id": "AikIh8toJJB_",
        "outputId": "6c4b22c7-9811-4fcf-d800-a2f498ea128a"
      },
      "source": [
        "n=5\n",
        "\n",
        "for i in range(1, n+1):\n",
        "  print('1 '*i)"
      ],
      "execution_count": 34,
      "outputs": [
        {
          "output_type": "stream",
          "text": [
            "1 \n",
            "1 1 \n",
            "1 1 1 \n",
            "1 1 1 1 \n",
            "1 1 1 1 1 \n"
          ],
          "name": "stdout"
        }
      ]
    },
    {
      "cell_type": "markdown",
      "metadata": {
        "id": "Hyysq8QNKwHo"
      },
      "source": [
        "\n",
        "\n",
        "```\n",
        "1\n",
        "2 3\n",
        "4 5 6\n",
        "7 8 9 10\n",
        "11 12 13 14 15\n",
        "```\n",
        "\n"
      ]
    },
    {
      "cell_type": "code",
      "metadata": {
        "colab": {
          "base_uri": "https://localhost:8080/"
        },
        "id": "SJaomdNJKFOm",
        "outputId": "1a8bf572-7a66-44fa-c404-79f79678edd6"
      },
      "source": [
        "n=5\n",
        "count = 1\n",
        "for i in range(1,n+1):\n",
        "  for j in range(1,i+1):\n",
        "    print(count, end = ' ')\n",
        "    count += 1\n",
        "  print()"
      ],
      "execution_count": 36,
      "outputs": [
        {
          "output_type": "stream",
          "text": [
            "1 \n",
            "2 3 \n",
            "4 5 6 \n",
            "7 8 9 10 \n",
            "11 12 13 14 15 \n"
          ],
          "name": "stdout"
        }
      ]
    },
    {
      "cell_type": "markdown",
      "metadata": {
        "id": "4YaiKAWXMqfO"
      },
      "source": [
        "\n",
        "\n",
        "```\n",
        "1\n",
        "2 2\n",
        "3 3 3\n",
        "4 4 4 4\n",
        "5 5 5 5 \n"
      ]
    },
    {
      "cell_type": "code",
      "metadata": {
        "colab": {
          "base_uri": "https://localhost:8080/"
        },
        "id": "-e6d3kfoL_VO",
        "outputId": "bea80476-49fd-4a34-da00-4133b2955dec"
      },
      "source": [
        "n=5\n",
        "\n",
        "for i in range(1,n+1):\n",
        "  for j in range(1,i+1):\n",
        "    print(i, end = ' ')  \n",
        "  print()\n",
        "\n",
        "for i in range(1, n+1):\n",
        "  print((str(i)+' ')*i)"
      ],
      "execution_count": 40,
      "outputs": [
        {
          "output_type": "stream",
          "text": [
            "1 \n",
            "2 2 \n",
            "3 3 3 \n",
            "4 4 4 4 \n",
            "5 5 5 5 5 \n",
            "1 \n",
            "2 2 \n",
            "3 3 3 \n",
            "4 4 4 4 \n",
            "5 5 5 5 5 \n"
          ],
          "name": "stdout"
        }
      ]
    },
    {
      "cell_type": "markdown",
      "metadata": {
        "id": "-woF71aUON_K"
      },
      "source": [
        "\n",
        "\n",
        "```\n",
        "* * * *\n",
        "* * *\n",
        "* *\n",
        "*\n",
        "```\n",
        "\n"
      ]
    },
    {
      "cell_type": "code",
      "metadata": {
        "colab": {
          "base_uri": "https://localhost:8080/"
        },
        "id": "U84Rn9pDNNL3",
        "outputId": "9783c9d4-7925-45e3-f056-0cb115e1ffc3"
      },
      "source": [
        "n=4\n",
        "for i in range(n,0,-1):\n",
        "  #print('* '*i)\n",
        "  for j  in range(1,i+1):\n",
        "    print('*', end = ' ')\n",
        "  print()"
      ],
      "execution_count": 49,
      "outputs": [
        {
          "output_type": "stream",
          "text": [
            "* * * * \n",
            "* * * \n",
            "* * \n",
            "* \n"
          ],
          "name": "stdout"
        }
      ]
    },
    {
      "cell_type": "markdown",
      "metadata": {
        "id": "57udbHqDRaMP"
      },
      "source": [
        "\n",
        "\n",
        "```\n",
        "*\n",
        "**\n",
        "***\n",
        "****\n",
        "*****\n",
        "****\n",
        "***\n",
        "**\n",
        "*\n",
        "```\n",
        "\n",
        "\n"
      ]
    },
    {
      "cell_type": "code",
      "metadata": {
        "colab": {
          "base_uri": "https://localhost:8080/"
        },
        "id": "b7Mxfx40Oz0N",
        "outputId": "a5dba37c-4123-438f-a968-319d127ac79f"
      },
      "source": [
        "n=7\n",
        "\n",
        "\n",
        "for i in range(1, n+1):\n",
        "  print('*'*i)\n",
        "for j in range(n-1,0,-1):\n",
        "  print('*'*j)"
      ],
      "execution_count": 61,
      "outputs": [
        {
          "output_type": "stream",
          "text": [
            "*\n",
            "**\n",
            "***\n",
            "****\n",
            "*****\n",
            "******\n",
            "*******\n",
            "******\n",
            "*****\n",
            "****\n",
            "***\n",
            "**\n",
            "*\n"
          ],
          "name": "stdout"
        }
      ]
    },
    {
      "cell_type": "markdown",
      "metadata": {
        "id": "eyFDGmlsTRIM"
      },
      "source": [
        "\n",
        "\n",
        "```\n",
        "number 1:- \n",
        "\n",
        "    *\n",
        "   **\n",
        "  ***\n",
        " ****\n",
        "*****\n",
        "\n",
        "\n",
        "Number 2:- \n",
        "\n",
        "    1\n",
        "   12\n",
        "  123\n",
        " 1234\n",
        "12345\n",
        "\n",
        "\n",
        "number 3:-\n",
        "    *\n",
        "   **\n",
        "  ***\n",
        " ****\n",
        "*****\n",
        " ****\n",
        "  ***\n",
        "   **\n",
        "    *\n",
        "\n",
        "Number 4 :- \n",
        "    *\n",
        "   ***\n",
        "  *****\n",
        " *******\n",
        "*********\n",
        " *******\n",
        "  *****\n",
        "   ***\n",
        "    *\n",
        "\n",
        "Number 5:-\n",
        "\n",
        "*        *\n",
        "**      **\n",
        "***    ***\n",
        "****  ****\n",
        "**********\n",
        "****  ****\n",
        "***    ***\n",
        "**      **\n",
        "*        *\n",
        "\n",
        "Number 6:-\n",
        "\n",
        "*****\n",
        " ***\n",
        "  *\n",
        "\n",
        "Number 7;\n",
        "\n",
        "* * * * *\n",
        " * * * *\n",
        "  * * *\n",
        "   * *\n",
        "    *\n",
        "\n",
        "Number 8:-\n",
        "\n",
        "\n",
        "* * * * *\n",
        " * * * *\n",
        "  * * *\n",
        "   * *\n",
        "    *\n",
        "   * *\n",
        "  * * *\n",
        " * * * *\n",
        "* * * * *\n",
        "\n",
        "Number 9:-\n",
        "\n",
        "**********\n",
        "*\n",
        "*\n",
        "*   ******\n",
        "*   *    *\n",
        "*        *\n",
        "**********\n",
        "\n",
        "Number 10:\n",
        "\n",
        "*   *\n",
        "*  *\n",
        "* *\n",
        "**\n",
        "* *\n",
        "*  *\n",
        "*   *\n",
        "\n",
        "Number 11 :\n",
        "\n",
        "All 24 other then 2 mentioned above alphabets in star(*) form \n",
        "\n",
        "Number 12 :- \n",
        "\n",
        "+         + + + + + +\n",
        "+         +\n",
        "+         +\n",
        "+         +\n",
        "+         +\n",
        "+ + + + + + + + + + +\n",
        "          +         +\n",
        "          +         +\n",
        "          +         +\n",
        "          +         +\n",
        "+ + + + + +         +\n",
        "\n",
        "```\n",
        "\n"
      ]
    },
    {
      "cell_type": "code",
      "metadata": {
        "id": "J9_MvcwnR9Ts"
      },
      "source": [
        ""
      ],
      "execution_count": null,
      "outputs": []
    }
  ]
}